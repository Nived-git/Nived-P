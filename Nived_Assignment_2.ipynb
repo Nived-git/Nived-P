{
  "nbformat": 4,
  "nbformat_minor": 0,
  "metadata": {
    "colab": {
      "name": "Nived Assignment 2",
      "provenance": [],
      "collapsed_sections": []
    },
    "kernelspec": {
      "name": "python3",
      "display_name": "Python 3"
    }
  },
  "cells": [
    {
      "cell_type": "markdown",
      "metadata": {
        "id": "Bpe4tigd-dua"
      },
      "source": [
        "Q1. Using if and elseif for grading based on the user input ?"
      ]
    },
    {
      "cell_type": "code",
      "metadata": {
        "colab": {
          "base_uri": "https://localhost:8080/"
        },
        "id": "zVm1Vvz--xzs",
        "outputId": "e3e86a32-5cc6-482b-9a7d-10c1bde238f7"
      },
      "source": [
        "mark = int (input(\"Enter your  mark \"))\r\n",
        " \r\n",
        "if mark > 90 :\r\n",
        "  print ( \"You scored A-Grade\")\r\n",
        "elif mark >= 80 :\r\n",
        "  print ( \"You scored B-Grade\")\r\n",
        "elif mark >= 70 :\r\n",
        "  print ( \"You scored C-Grade\")\r\n",
        "elif mark >= 60 :\r\n",
        "  print ( \"You scored D-Grade\")\r\n",
        "elif mark >= 50 :\r\n",
        "  print ( \"You scored E-Grade\")\r\n",
        "else :\r\n",
        "  print (\"You Failed\")"
      ],
      "execution_count": 4,
      "outputs": [
        {
          "output_type": "stream",
          "text": [
            "Enter your  mark 89\n",
            "You scored B-Grade\n"
          ],
          "name": "stdout"
        }
      ]
    },
    {
      "cell_type": "markdown",
      "metadata": {
        "id": "kq4fkIND_cxn"
      },
      "source": [
        "Q2. Extend the username password block to support OTP verification ?"
      ]
    },
    {
      "cell_type": "code",
      "metadata": {
        "colab": {
          "base_uri": "https://localhost:8080/"
        },
        "id": "jqDGiYWh_ojJ",
        "outputId": "a44da449-dd5b-47ff-d7f3-e3d4cd4f2e7b"
      },
      "source": [
        "\r\n",
        "username = 'Nived'\r\n",
        "password = '3659'\r\n",
        "OTP = '2886'\r\n",
        "name = input (\"Enter the username \")\r\n",
        "\r\n",
        "if name == username :\r\n",
        "  user_password = input(\"Enter the password \")\r\n",
        "  if user_password == password :\r\n",
        "    user_code = input(\"Enter the OTP \")\r\n",
        "    if user_code == OTP :\r\n",
        "      print ( \"Welcome \" + username )\r\n",
        "      print ( \"How are you!\") \r\n",
        "    else :\r\n",
        "      print ( \"Incorrect OTP\" )\r\n",
        "      print ( \"Try again!\")\r\n",
        "  else :\r\n",
        "    print ( \"Password doesn't match\" )\r\n",
        "    print ( \"Try again!\")\r\n",
        "else : \r\n",
        "  print (\"Invalid usernme\")"
      ],
      "execution_count": 6,
      "outputs": [
        {
          "output_type": "stream",
          "text": [
            "Enter the username Nived\n",
            "Enter the password 3659\n",
            "Enter the OTP 2886\n",
            "Welcome Nived\n",
            "How are you!\n"
          ],
          "name": "stdout"
        }
      ]
    },
    {
      "cell_type": "markdown",
      "metadata": {
        "id": "nk1BJFFRAjZ6"
      },
      "source": [
        "Q3.In a list of marks print only failed marks ?"
      ]
    },
    {
      "cell_type": "code",
      "metadata": {
        "colab": {
          "base_uri": "https://localhost:8080/"
        },
        "id": "YkmXkpeSA34s",
        "outputId": "2da7ec2d-373f-4bfa-adb2-63e5f47ee407"
      },
      "source": [
        "student_marks = {\r\n",
        "    \"Ronny\" : 95,\r\n",
        "    \"Rambo\": 84,\r\n",
        "    \"Stella\": 63,\r\n",
        "    \"Vicky\" : 92,\r\n",
        "    \"Zayn\": 45\r\n",
        "}\r\n",
        "student_marks.keys()\r\n",
        "for key in student_marks.keys() :\r\n",
        "  if student_marks[key] < 60 :\r\n",
        "    print (key + \" has failed\")"
      ],
      "execution_count": 7,
      "outputs": [
        {
          "output_type": "stream",
          "text": [
            "Zayn has failed\n"
          ],
          "name": "stdout"
        }
      ]
    }
  ]
}