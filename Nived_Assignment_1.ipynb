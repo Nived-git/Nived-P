{
  "nbformat": 4,
  "nbformat_minor": 0,
  "metadata": {
    "colab": {
      "name": "Nived Assignment 1",
      "provenance": [],
      "collapsed_sections": []
    },
    "kernelspec": {
      "name": "python3",
      "display_name": "Python 3"
    }
  },
  "cells": [
    {
      "cell_type": "markdown",
      "metadata": {
        "id": "jwaZqWxq22DJ"
      },
      "source": [
        "Q1. Show all 4 basic operators with different numbers ?\r\n",
        "Q2. Get user input and do calculations ?"
      ]
    },
    {
      "cell_type": "code",
      "metadata": {
        "colab": {
          "base_uri": "https://localhost:8080/"
        },
        "id": "vG4Cu2423KXG",
        "outputId": "a9b1dac9-2607-4f3e-ff8c-5c6659b528dd"
      },
      "source": [
        "int(input(\"Enter Number \")) + 3"
      ],
      "execution_count": 1,
      "outputs": [
        {
          "output_type": "stream",
          "text": [
            "Enter Number 9\n"
          ],
          "name": "stdout"
        },
        {
          "output_type": "execute_result",
          "data": {
            "text/plain": [
              "12"
            ]
          },
          "metadata": {
            "tags": []
          },
          "execution_count": 1
        }
      ]
    },
    {
      "cell_type": "code",
      "metadata": {
        "colab": {
          "base_uri": "https://localhost:8080/"
        },
        "id": "s55bqpwS37Bi",
        "outputId": "b437141b-8bc7-4458-a768-28c9e5ec478a"
      },
      "source": [
        "int(input(\"Enter Number \")) - 5\r\n"
      ],
      "execution_count": 2,
      "outputs": [
        {
          "output_type": "stream",
          "text": [
            "Enter Number 10\n"
          ],
          "name": "stdout"
        },
        {
          "output_type": "execute_result",
          "data": {
            "text/plain": [
              "5"
            ]
          },
          "metadata": {
            "tags": []
          },
          "execution_count": 2
        }
      ]
    },
    {
      "cell_type": "code",
      "metadata": {
        "colab": {
          "base_uri": "https://localhost:8080/"
        },
        "id": "4I3G19tY4Fmc",
        "outputId": "d3e61e15-02ec-41bc-c1fd-763e4a28819b"
      },
      "source": [
        "int(input(\"Enter Number \")) * 10"
      ],
      "execution_count": 3,
      "outputs": [
        {
          "output_type": "stream",
          "text": [
            "Enter Number 10\n"
          ],
          "name": "stdout"
        },
        {
          "output_type": "execute_result",
          "data": {
            "text/plain": [
              "100"
            ]
          },
          "metadata": {
            "tags": []
          },
          "execution_count": 3
        }
      ]
    },
    {
      "cell_type": "code",
      "metadata": {
        "colab": {
          "base_uri": "https://localhost:8080/"
        },
        "id": "v_Ni4sV54Nsb",
        "outputId": "f4904433-9f39-4f6b-c8b0-026dcab97d49"
      },
      "source": [
        "int(input(\"Enter Number \")) /2"
      ],
      "execution_count": 5,
      "outputs": [
        {
          "output_type": "stream",
          "text": [
            "Enter Number 8\n"
          ],
          "name": "stdout"
        },
        {
          "output_type": "execute_result",
          "data": {
            "text/plain": [
              "4.0"
            ]
          },
          "metadata": {
            "tags": []
          },
          "execution_count": 5
        }
      ]
    },
    {
      "cell_type": "markdown",
      "metadata": {
        "id": "qKmWBmt845Ab"
      },
      "source": [
        "Q3. Use variables to store user inputs and do multiple calculations with same variable name ?"
      ]
    },
    {
      "cell_type": "code",
      "metadata": {
        "colab": {
          "base_uri": "https://localhost:8080/"
        },
        "id": "_fwc9TJP5K2q",
        "outputId": "249eed5f-fb46-4c2b-eacd-2c1d28817de2"
      },
      "source": [
        "x=5\r\n",
        "y=6\r\n",
        "x+y"
      ],
      "execution_count": 6,
      "outputs": [
        {
          "output_type": "execute_result",
          "data": {
            "text/plain": [
              "11"
            ]
          },
          "metadata": {
            "tags": []
          },
          "execution_count": 6
        }
      ]
    },
    {
      "cell_type": "code",
      "metadata": {
        "colab": {
          "base_uri": "https://localhost:8080/"
        },
        "id": "ytA2uyyH5bZ_",
        "outputId": "c22b5d21-f284-46c7-cf48-4e5f085f8c9f"
      },
      "source": [
        "x=5\r\n",
        "y=6\r\n",
        "x-y"
      ],
      "execution_count": 7,
      "outputs": [
        {
          "output_type": "execute_result",
          "data": {
            "text/plain": [
              "-1"
            ]
          },
          "metadata": {
            "tags": []
          },
          "execution_count": 7
        }
      ]
    },
    {
      "cell_type": "code",
      "metadata": {
        "colab": {
          "base_uri": "https://localhost:8080/"
        },
        "id": "Eb9e4ugN5o-j",
        "outputId": "a18f7ce6-c2dc-4875-d3e1-99999ff1a86f"
      },
      "source": [
        "x=5\r\n",
        "y=6\r\n",
        "x*y"
      ],
      "execution_count": 8,
      "outputs": [
        {
          "output_type": "execute_result",
          "data": {
            "text/plain": [
              "30"
            ]
          },
          "metadata": {
            "tags": []
          },
          "execution_count": 8
        }
      ]
    },
    {
      "cell_type": "code",
      "metadata": {
        "colab": {
          "base_uri": "https://localhost:8080/"
        },
        "id": "5QXo9c9l5uYR",
        "outputId": "7aaf15c4-080a-467f-f32c-e69ffb328902"
      },
      "source": [
        "x=5\r\n",
        "y=6\r\n",
        "x/y"
      ],
      "execution_count": 9,
      "outputs": [
        {
          "output_type": "execute_result",
          "data": {
            "text/plain": [
              "0.8333333333333334"
            ]
          },
          "metadata": {
            "tags": []
          },
          "execution_count": 9
        }
      ]
    },
    {
      "cell_type": "markdown",
      "metadata": {
        "id": "fo94OfKc6KBU"
      },
      "source": [
        "Q4.Get 2 user input and do calculation between them ?"
      ]
    },
    {
      "cell_type": "code",
      "metadata": {
        "colab": {
          "base_uri": "https://localhost:8080/"
        },
        "id": "2DkLv9UF6Uu0",
        "outputId": "0f85bb24-4508-43a3-8fce-162161f06173"
      },
      "source": [
        "x=int (input(\"Enter first no.\"))\r\n",
        "y=int (input(\"Enter second no.\"))\r\n",
        "x+y"
      ],
      "execution_count": 13,
      "outputs": [
        {
          "output_type": "stream",
          "text": [
            "Enter first no.5\n",
            "Enter second no.6\n"
          ],
          "name": "stdout"
        },
        {
          "output_type": "execute_result",
          "data": {
            "text/plain": [
              "11"
            ]
          },
          "metadata": {
            "tags": []
          },
          "execution_count": 13
        }
      ]
    },
    {
      "cell_type": "code",
      "metadata": {
        "colab": {
          "base_uri": "https://localhost:8080/"
        },
        "id": "BpufaNHw70eB",
        "outputId": "4a4f9d4e-0fa4-4391-ced6-59509b444e85"
      },
      "source": [
        "x=int (input(\"Enter first no.\"))\r\n",
        "y=int (input(\"Enter second no.\"))\r\n",
        "x-y"
      ],
      "execution_count": 14,
      "outputs": [
        {
          "output_type": "stream",
          "text": [
            "Enter first no.10\n",
            "Enter second no.6\n"
          ],
          "name": "stdout"
        },
        {
          "output_type": "execute_result",
          "data": {
            "text/plain": [
              "4"
            ]
          },
          "metadata": {
            "tags": []
          },
          "execution_count": 14
        }
      ]
    },
    {
      "cell_type": "code",
      "metadata": {
        "colab": {
          "base_uri": "https://localhost:8080/"
        },
        "id": "qESHOfpH78oV",
        "outputId": "6db37a94-efab-48eb-a43c-099bedfe20c2"
      },
      "source": [
        "x=int (input(\"Enter first no.\"))\r\n",
        "y=int (input(\"Enter second no.\"))\r\n",
        "x*y\r\n"
      ],
      "execution_count": 15,
      "outputs": [
        {
          "output_type": "stream",
          "text": [
            "Enter first no.5\n",
            "Enter second no.5\n"
          ],
          "name": "stdout"
        },
        {
          "output_type": "execute_result",
          "data": {
            "text/plain": [
              "25"
            ]
          },
          "metadata": {
            "tags": []
          },
          "execution_count": 15
        }
      ]
    },
    {
      "cell_type": "code",
      "metadata": {
        "colab": {
          "base_uri": "https://localhost:8080/"
        },
        "id": "1Hd4DnXv8VII",
        "outputId": "bcc3ee3d-288f-4da9-8472-4a40dd9998e7"
      },
      "source": [
        "x=int (input(\"Enter first no.\"))\r\n",
        "y=int (input(\"Enter second no.\"))\r\n",
        "x/y"
      ],
      "execution_count": 16,
      "outputs": [
        {
          "output_type": "stream",
          "text": [
            "Enter first no.10\n",
            "Enter second no.2\n"
          ],
          "name": "stdout"
        },
        {
          "output_type": "execute_result",
          "data": {
            "text/plain": [
              "5.0"
            ]
          },
          "metadata": {
            "tags": []
          },
          "execution_count": 16
        }
      ]
    }
  ]
}